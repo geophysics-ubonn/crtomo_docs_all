{
  "nbformat_minor": 0,
  "nbformat": 4,
  "cells": [
    {
      "execution_count": null,
      "source": [
        "%matplotlib inline"
      ],
      "outputs": [],
      "cell_type": "code",
      "metadata": {
        "collapsed": false
      }
    },
    {
      "source": [
        "\nPlot inversion results from a tomodir\n=====================================\n\n\n"
      ],
      "cell_type": "markdown",
      "metadata": {}
    },
    {
      "execution_count": null,
      "source": [
        "import crtomo\n\ntdm = crtomo.tdMan(tomodir='tomodir')"
      ],
      "outputs": [],
      "cell_type": "code",
      "metadata": {
        "collapsed": false
      }
    },
    {
      "source": [
        "Plot the last magnitude and phase iteration the quick and dirty way.\nNote that all iterations are stored in the tdm.a['inversion'][KEY] list\n\n"
      ],
      "cell_type": "markdown",
      "metadata": {}
    },
    {
      "execution_count": null,
      "source": [
        "tdm.show_parset(tdm.a['inversion']['rmag'][-1])\ntdm.show_parset(tdm.a['inversion']['rpha'][-1])"
      ],
      "outputs": [],
      "cell_type": "code",
      "metadata": {
        "collapsed": false
      }
    },
    {
      "source": [
        "Let's do this the nice way (for phase values only)\n\n"
      ],
      "cell_type": "markdown",
      "metadata": {}
    },
    {
      "execution_count": null,
      "source": [
        "import pylab as plt\n# extract parameter set ids\npid_pha = tdm.a['inversion']['rpha'][-1]\n\nfig, ax = plt.subplots(1, 1, figsize=(16 / 2.54, 7 / 2.54))\ntdm.plot.plot_elements_to_ax(\n    cid=pid_pha,\n    ax=ax,\n    plot_colorbar=True,\n    xmin=-0.5,\n    xmax=4,\n    zmin=-1.5,\n    cblabel=r'$\\phi [mrad]$',\n)"
      ],
      "outputs": [],
      "cell_type": "code",
      "metadata": {
        "collapsed": false
      }
    },
    {
      "source": [
        "Create a depth cut at x = 4 m, down to 2 m depth\n\n"
      ],
      "cell_type": "markdown",
      "metadata": {}
    },
    {
      "execution_count": null,
      "source": [
        "pid_pha = tdm.a['inversion']['rpha'][-1]\nresults = tdm.parman.extract_along_line(pid_pha, [4, -2], [4, 0])\n# x y value\nprint(results)\n\nimport pylab as plt\nfig, ax = plt.subplots()\nax.plot(-results[:, 2], results[:, 1], '.-')\nax.set_xlabel(r'$-\\phi [mrad]$')\nax.set_ylabel('depth [m]')"
      ],
      "outputs": [],
      "cell_type": "code",
      "metadata": {
        "collapsed": false
      }
    }
  ],
  "metadata": {
    "kernelspec": {
      "display_name": "Python 3",
      "name": "python3",
      "language": "python"
    },
    "language_info": {
      "name": "python",
      "codemirror_mode": {
        "name": "ipython",
        "version": 3
      },
      "pygments_lexer": "ipython3",
      "version": "3.5.3",
      "file_extension": ".py",
      "nbconvert_exporter": "python",
      "mimetype": "text/x-python"
    }
  }
}
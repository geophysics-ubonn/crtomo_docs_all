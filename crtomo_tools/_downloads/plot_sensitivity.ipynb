{
  "nbformat_minor": 0,
  "nbformat": 4,
  "cells": [
    {
      "execution_count": null,
      "source": [
        "%matplotlib inline"
      ],
      "outputs": [],
      "cell_type": "code",
      "metadata": {
        "collapsed": false
      }
    },
    {
      "source": [
        "\nPlotting sensitivities\n======================\n\nSensitivity distributions can be easily plotted using the tdMan class:\n\n"
      ],
      "cell_type": "markdown",
      "metadata": {}
    },
    {
      "source": [
        "imports\n\n"
      ],
      "cell_type": "markdown",
      "metadata": {}
    },
    {
      "execution_count": null,
      "source": [
        "import numpy as np\nimport crtomo"
      ],
      "outputs": [],
      "cell_type": "code",
      "metadata": {
        "collapsed": false
      }
    },
    {
      "source": [
        "create and save a FEM-grid\n\n"
      ],
      "cell_type": "markdown",
      "metadata": {}
    },
    {
      "execution_count": null,
      "source": [
        "grid = crtomo.crt_grid.create_surface_grid(\n    nr_electrodes=10, spacing=1,\n    depth=4,\n    char_lengths=0.2,\n)\n\ngrid.plot_grid()\n\ngrid.save_elem_file('elem.dat')\ngrid.save_elec_file('elec.dat')"
      ],
      "outputs": [],
      "cell_type": "code",
      "metadata": {
        "collapsed": false
      }
    },
    {
      "source": [
        "create the measurement configuration\n\n"
      ],
      "cell_type": "markdown",
      "metadata": {}
    },
    {
      "execution_count": null,
      "source": [
        "configs = np.array((\n    (1, 4, 10, 7),\n))"
      ],
      "outputs": [],
      "cell_type": "code",
      "metadata": {
        "collapsed": false
      }
    },
    {
      "source": [
        "for different background, plot the sensitivities\n\n"
      ],
      "cell_type": "markdown",
      "metadata": {}
    },
    {
      "execution_count": null,
      "source": [
        "for bg in (1, 10, 100, 1000):\n    td = crtomo.tdMan(grid=grid)\n    td.configs.add_to_configs(configs)\n    td.add_homogeneous_model(bg, 0)\n\n    td.model(sensitivities=True)\n    r = td.plot_sensitivity(0)\n    r[0].savefig('sensitivity_bg_{}.pdf'.format(bg), bbox_inches='tight')\n    r = td.plot_sensitivity(0, mag_only=True)\n    r[0].savefig(\n        'sensitivity_magonly_bg_{}.pdf'.format(bg), bbox_inches='tight')"
      ],
      "outputs": [],
      "cell_type": "code",
      "metadata": {
        "collapsed": false
      }
    }
  ],
  "metadata": {
    "kernelspec": {
      "display_name": "Python 3",
      "name": "python3",
      "language": "python"
    },
    "language_info": {
      "name": "python",
      "codemirror_mode": {
        "name": "ipython",
        "version": 3
      },
      "pygments_lexer": "ipython3",
      "version": "3.5.3",
      "file_extension": ".py",
      "nbconvert_exporter": "python",
      "mimetype": "text/x-python"
    }
  }
}
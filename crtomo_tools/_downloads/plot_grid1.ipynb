{
  "nbformat_minor": 0,
  "nbformat": 4,
  "cells": [
    {
      "execution_count": null,
      "source": [
        "%matplotlib inline"
      ],
      "outputs": [],
      "cell_type": "code",
      "metadata": {
        "collapsed": false
      }
    },
    {
      "source": [
        "\nCreating and handling grids\n===========================\n\nGrids for CRTomo can be created in multiple ways. We now support two ways:\n\n* using the crtomo.crt_grid.create_surface_grid function\n* using the command line command cr_trig_create\n\nThis example only shows the usage of the former method.\n\n\n"
      ],
      "cell_type": "markdown",
      "metadata": {}
    },
    {
      "source": [
        "The top level crtomo import suffices for most tasks\n\n"
      ],
      "cell_type": "markdown",
      "metadata": {}
    },
    {
      "execution_count": null,
      "source": [
        "import crtomo"
      ],
      "outputs": [],
      "cell_type": "code",
      "metadata": {
        "collapsed": false
      }
    },
    {
      "source": [
        "Create simple surface grids with this wrapper\n\n"
      ],
      "cell_type": "markdown",
      "metadata": {}
    },
    {
      "execution_count": null,
      "source": [
        "grid = crtomo.crt_grid.create_surface_grid(nr_electrodes=10, spacing=1.5)\ngrid.plot_grid()\n# number the electrodes (useful for numerical studies)\ngrid.plot_grid(plot_electrode_numbers=True)\n\n# save this grid to disc\ngrid.save_elem_file('elem.dat')\ngrid.save_elec_file('elec.dat')"
      ],
      "outputs": [],
      "cell_type": "code",
      "metadata": {
        "collapsed": false
      }
    },
    {
      "source": [
        "Grid can be read from disk:\n\n"
      ],
      "cell_type": "markdown",
      "metadata": {}
    },
    {
      "execution_count": null,
      "source": [
        "grid1 = crtomo.crt_grid('elem.dat', 'elec.dat')\nprint(grid1)\ngrid1.plot_grid()"
      ],
      "outputs": [],
      "cell_type": "code",
      "metadata": {
        "collapsed": false
      }
    },
    {
      "source": [
        "Create a grid with layering\n\n"
      ],
      "cell_type": "markdown",
      "metadata": {}
    },
    {
      "execution_count": null,
      "source": [
        "grid = crtomo.crt_grid.create_surface_grid(\n    nr_electrodes=10,\n    spacing=1.5,\n    lines=[0.5, 1],\n)\nprint(grid)\ngrid.plot_grid()"
      ],
      "outputs": [],
      "cell_type": "code",
      "metadata": {
        "collapsed": false
      }
    }
  ],
  "metadata": {
    "kernelspec": {
      "display_name": "Python 3",
      "name": "python3",
      "language": "python"
    },
    "language_info": {
      "name": "python",
      "codemirror_mode": {
        "name": "ipython",
        "version": 3
      },
      "pygments_lexer": "ipython3",
      "version": "3.5.3",
      "file_extension": ".py",
      "nbconvert_exporter": "python",
      "mimetype": "text/x-python"
    }
  }
}
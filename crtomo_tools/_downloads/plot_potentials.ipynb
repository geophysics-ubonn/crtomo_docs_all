{
  "nbformat_minor": 0,
  "nbformat": 4,
  "cells": [
    {
      "execution_count": null,
      "source": [
        "%matplotlib inline"
      ],
      "outputs": [],
      "cell_type": "code",
      "metadata": {
        "collapsed": false
      }
    },
    {
      "source": [
        "\nPlot a potential distribution, computed with CRMod\n==================================================\n\n\n\n"
      ],
      "cell_type": "markdown",
      "metadata": {}
    },
    {
      "source": [
        "create a tomodir object\n\n"
      ],
      "cell_type": "markdown",
      "metadata": {}
    },
    {
      "execution_count": null,
      "source": [
        "import crtomo\ngrid = crtomo.crt_grid('grid_surface/elem.dat', 'grid_surface/elec.dat')\ntd = crtomo.tdMan(grid=grid)"
      ],
      "outputs": [],
      "cell_type": "code",
      "metadata": {
        "collapsed": false
      }
    },
    {
      "source": [
        "define configurations\n\n"
      ],
      "cell_type": "markdown",
      "metadata": {}
    },
    {
      "execution_count": null,
      "source": [
        "import numpy as np\ntd.configs.add_to_configs(\n    np.array((\n        (1, 10, 5, 7),\n        (1, 3, 10, 7),\n    ))\n)"
      ],
      "outputs": [],
      "cell_type": "code",
      "metadata": {
        "collapsed": false
      }
    },
    {
      "source": [
        "add a homogeneous forward model\n\n"
      ],
      "cell_type": "markdown",
      "metadata": {}
    },
    {
      "execution_count": null,
      "source": [
        "td.add_homogeneous_model(100, 0)"
      ],
      "outputs": [],
      "cell_type": "code",
      "metadata": {
        "collapsed": false
      }
    },
    {
      "source": [
        "compute FEM solution using CRMod\n\n"
      ],
      "cell_type": "markdown",
      "metadata": {}
    },
    {
      "execution_count": null,
      "source": [
        "td.model(potentials=True)"
      ],
      "outputs": [],
      "cell_type": "code",
      "metadata": {
        "collapsed": false
      }
    },
    {
      "source": [
        "plot first quadrupole\n\n"
      ],
      "cell_type": "markdown",
      "metadata": {}
    },
    {
      "execution_count": null,
      "source": [
        "pot_mag, pot_pha = td.get_potential(0)\n\n# add node data to the parameter manager\nnid = td.nodeman.add_data(pot_mag)\n# TODO: is this the phase, or imaginary part of the potential?\nnid_pha = td.nodeman.add_data(pot_pha)\n\n# plot\nimport pylab as plt\nfig, axes = plt.subplots(2, 1, figsize=(16 / 2.54, 8 / 2.54))\n\nax = axes[0]\ntd.plot.plot_nodes_pcolor_to_ax(\n    ax,\n    nid,\n    plot_colorbar=True,\n)\n# td.plot.plot_nodes_contour_to_ax(\n#     ax, nid,\n#     plot_colorbar=True,\n\n# )\nax.set_aspect('equal')\n\nax = axes[1]\ntd.plot.plot_nodes_pcolor_to_ax(\n    ax,\n    nid_pha,\n    plot_colorbar=True,\n)\nax.set_aspect('equal')\nfig.savefig('test.pdf', bbox_inches='tight')"
      ],
      "outputs": [],
      "cell_type": "code",
      "metadata": {
        "collapsed": false
      }
    }
  ],
  "metadata": {
    "kernelspec": {
      "display_name": "Python 3",
      "name": "python3",
      "language": "python"
    },
    "language_info": {
      "name": "python",
      "codemirror_mode": {
        "name": "ipython",
        "version": 3
      },
      "pygments_lexer": "ipython3",
      "version": "3.5.3",
      "file_extension": ".py",
      "nbconvert_exporter": "python",
      "mimetype": "text/x-python"
    }
  }
}
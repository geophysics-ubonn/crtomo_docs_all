{
  "nbformat_minor": 0,
  "nbformat": 4,
  "cells": [
    {
      "execution_count": null,
      "source": [
        "%matplotlib inline"
      ],
      "outputs": [],
      "cell_type": "code",
      "metadata": {
        "collapsed": false
      }
    },
    {
      "source": [
        "\nGenerating sEIT forward models\n==============================\n\nThe eit manager can be used to easily create forward models using different\nparameterizations.\n\n"
      ],
      "cell_type": "markdown",
      "metadata": {}
    },
    {
      "source": [
        "imports\n\n"
      ],
      "cell_type": "markdown",
      "metadata": {}
    },
    {
      "execution_count": null,
      "source": [
        "import numpy as np\nimport crtomo"
      ],
      "outputs": [],
      "cell_type": "code",
      "metadata": {
        "collapsed": false
      }
    },
    {
      "source": [
        "we need a FE grid\n\n"
      ],
      "cell_type": "markdown",
      "metadata": {}
    },
    {
      "execution_count": null,
      "source": [
        "grid = crtomo.crt_grid.create_surface_grid(nr_electrodes=15, spacing=1)\ngrid.plot_grid()"
      ],
      "outputs": [],
      "cell_type": "code",
      "metadata": {
        "collapsed": false
      }
    },
    {
      "source": [
        "define frequencies\n\n"
      ],
      "cell_type": "markdown",
      "metadata": {}
    },
    {
      "execution_count": null,
      "source": [
        "frequencies = np.logspace(-3, 3, 10)\n\n# create the eit manager\neitman = crtomo.eitMan(frequencies=frequencies, grid=grid)"
      ],
      "outputs": [],
      "cell_type": "code",
      "metadata": {
        "collapsed": false
      }
    },
    {
      "source": [
        "start with a homogeneous complex resistivity distribution\n\n"
      ],
      "cell_type": "markdown",
      "metadata": {}
    },
    {
      "execution_count": null,
      "source": [
        "eitman.add_homogeneous_model(magnitude=100, phase=0)\n\nr = eitman.plot_forward_models(maglim=[90, 110])\nprint(r)\n\n# save to files\nr['rmag']['fig'].savefig('fwd_model_hom_rmag.png', dpi=300)\nr['rpha']['fig'].savefig('fwd_model_hom_rpha.png', dpi=300)"
      ],
      "outputs": [],
      "cell_type": "code",
      "metadata": {
        "collapsed": false
      }
    },
    {
      "source": [
        "now we can start parameterizing the subsurface\n\n"
      ],
      "cell_type": "markdown",
      "metadata": {}
    },
    {
      "execution_count": null,
      "source": [
        "eitman.set_area_to_single_colecole(\n    0, 5, -2, 0,\n    [100, 0.1, 0.04, 0.8]\n)\n\nr = eitman.plot_forward_models(maglim=[90, 110], phalim=[-30, 0])\n\n# save to files\nr['rmag']['fig'].savefig('fwd_model_par_rmag.png', dpi=300)\nr['rpha']['fig'].savefig('fwd_model_par_rpha.png', dpi=300)"
      ],
      "outputs": [],
      "cell_type": "code",
      "metadata": {
        "collapsed": false
      }
    },
    {
      "source": [
        "add configurations\n\n"
      ],
      "cell_type": "markdown",
      "metadata": {}
    },
    {
      "execution_count": null,
      "source": [
        "configs = np.array((\n    (1, 3, 5, 4),\n    (5, 7, 10, 8),\n))\neitman.add_to_configs(configs)"
      ],
      "outputs": [],
      "cell_type": "code",
      "metadata": {
        "collapsed": false
      }
    },
    {
      "source": [
        "conduct forward modeling\n\n"
      ],
      "cell_type": "markdown",
      "metadata": {}
    },
    {
      "execution_count": null,
      "source": [
        "eitman.model()\nmeasurements = eitman.measurements()"
      ],
      "outputs": [],
      "cell_type": "code",
      "metadata": {
        "collapsed": false
      }
    },
    {
      "source": [
        "modeled SIP signatures can be retrieved as a dict:\n\n"
      ],
      "cell_type": "markdown",
      "metadata": {}
    },
    {
      "execution_count": null,
      "source": [
        "sip_sigs = eitman.get_measurement_responses()\nprint(sip_sigs)"
      ],
      "outputs": [],
      "cell_type": "code",
      "metadata": {
        "collapsed": false
      }
    },
    {
      "source": [
        "plot modeled SIP signatures\n\n"
      ],
      "cell_type": "markdown",
      "metadata": {}
    },
    {
      "execution_count": null,
      "source": [
        "for key, obj in eitman.get_measurement_responses().items():\n        obj.plot(filename='mod_sip_{}.png'.format(key), dtype='r')"
      ],
      "outputs": [],
      "cell_type": "code",
      "metadata": {
        "collapsed": false
      }
    },
    {
      "source": [
        "Extract SIP signature at one point from the forward model\n\n"
      ],
      "cell_type": "markdown",
      "metadata": {}
    },
    {
      "execution_count": null,
      "source": [
        "sip_one_p = eitman.extract_points(\n    ['forward_rmag', 'forward_rpha'],\n    np.atleast_2d(np.array((1, -1)))\n)\n\n# import IPython\n# IPython.embed()"
      ],
      "outputs": [],
      "cell_type": "code",
      "metadata": {
        "collapsed": false
      }
    }
  ],
  "metadata": {
    "kernelspec": {
      "display_name": "Python 3",
      "name": "python3",
      "language": "python"
    },
    "language_info": {
      "name": "python",
      "codemirror_mode": {
        "name": "ipython",
        "version": 3
      },
      "pygments_lexer": "ipython3",
      "version": "3.5.3",
      "file_extension": ".py",
      "nbconvert_exporter": "python",
      "mimetype": "text/x-python"
    }
  }
}